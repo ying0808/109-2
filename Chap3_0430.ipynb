{
 "cells": [
  {
   "cell_type": "markdown",
   "metadata": {},
   "source": [
    "# Tuple(元祖)\n",
    "tuple(元祖)可以視為不可改變的串列(list)。tuple跟list很像，但不能新增除或更新元素，tuple比起list好處:\n",
    "1.占用空間少\n",
    "2.可當作dictionary(字典)的key\n",
    "3.具名tuple當作物件替代\n",
    "4.當作函式的引數"
   ]
  },
  {
   "cell_type": "code",
   "execution_count": 1,
   "metadata": {},
   "outputs": [
    {
     "name": "stdout",
     "output_type": "stream",
     "text": [
      "('python', 'js', 'C#')\n",
      "('python', 'js', 'C#')\n"
     ]
    }
   ],
   "source": [
    "a_list=['python','js','C#']\n",
    "a_tuple=tuple(a_list)\n",
    "b_tuple=('python','js','C#')\n",
    "print(a_tuple)\n",
    "print(b_tuple)"
   ]
  },
  {
   "cell_type": "code",
   "execution_count": 2,
   "metadata": {},
   "outputs": [
    {
     "name": "stdout",
     "output_type": "stream",
     "text": [
      "('python', 'js', 'C#')\n",
      "('python', 'js', 'C#')\n",
      "python\n"
     ]
    }
   ],
   "source": [
    "a_list=['python','js','C#']\n",
    "a_tuple=tuple(a_list)\n",
    "b_tuple=('python','js','C#')\n",
    "print(a_tuple)\n",
    "print(b_tuple)\n",
    "print(b_tuple[0])"
   ]
  },
  {
   "cell_type": "markdown",
   "metadata": {},
   "source": [
    "# Dictionary-dict(字典)\n",
    "dict為帶有鍵值(key)的串列\n",
    "表示方法為{}"
   ]
  },
  {
   "cell_type": "code",
   "execution_count": 3,
   "metadata": {},
   "outputs": [
    {
     "name": "stdout",
     "output_type": "stream",
     "text": [
      "python\n",
      "3.7\n",
      "{0: 'python', 1: '3.7'}\n",
      "python\n"
     ]
    }
   ],
   "source": [
    "language={}\n",
    "language={'name':'python','version':'3.7'}\n",
    "a_list=['python','3.7']\n",
    "a_dict={0:'python',1:'3.7'}\n",
    "print(a_list[0])\n",
    "print(a_list[1])\n",
    "print(a_dict)\n",
    "print(a_dict[0]) #dict是索引值可以改變的list"
   ]
  },
  {
   "cell_type": "code",
   "execution_count": 6,
   "metadata": {},
   "outputs": [
    {
     "name": "stdout",
     "output_type": "stream",
     "text": [
      "python\n",
      "{'name': 'python', 'version': '3.7'}\n",
      "dict_keys(['name', 'version'])\n",
      "dict_items([('name', 'python'), ('version', '3.7')])\n",
      "True\n"
     ]
    }
   ],
   "source": [
    "language={}\n",
    "languages={'name':'python','version':'3.7'}\n",
    "print(languages['name']) #language的鍵值name中的元素\n",
    "print(languages) #印出language所有值\n",
    "print(languages.keys()) #印出language的鍵值\n",
    "print(languages.items()) #印出language的元素\n",
    "print('name' in languages) #name有沒有在language裡"
   ]
  },
  {
   "cell_type": "code",
   "execution_count": 9,
   "metadata": {},
   "outputs": [
    {
     "name": "stdout",
     "output_type": "stream",
     "text": [
      "擲出骰子點數\n",
      "六點\n"
     ]
    }
   ],
   "source": [
    "import random\n",
    "dice=random.randint(1,6)\n",
    "print(\"擲出骰子點數\")\n",
    "if dice==1:\n",
    "    print('一點')\n",
    "elif dice==2:\n",
    "    print('二點')\n",
    "elif dice==3:\n",
    "    print('三點')\n",
    "elif dice==4:\n",
    "    print('四點')\n",
    "elif dice==5:\n",
    "    print('五點')\n",
    "elif dice==6:\n",
    "    print('六點')"
   ]
  },
  {
   "cell_type": "code",
   "execution_count": 10,
   "metadata": {},
   "outputs": [
    {
     "name": "stdout",
     "output_type": "stream",
     "text": [
      "擲出骰子點數: {1: '一點', 2: '二點', 3: '三點', 4: '四點', 5: '五點', 6: '六點'}\n"
     ]
    }
   ],
   "source": [
    "import random\n",
    "dice_points={1:'一點',2:'二點',3:'三點',4:'四點',5:'五點',6:'六點'}\n",
    "dice=random.randint(1,6)\n",
    "print(\"擲出骰子點數:\",dice_points)"
   ]
  },
  {
   "cell_type": "code",
   "execution_count": null,
   "metadata": {},
   "outputs": [],
   "source": []
  }
 ],
 "metadata": {
  "kernelspec": {
   "display_name": "Python 3",
   "language": "python",
   "name": "python3"
  },
  "language_info": {
   "codemirror_mode": {
    "name": "ipython",
    "version": 3
   },
   "file_extension": ".py",
   "mimetype": "text/x-python",
   "name": "python",
   "nbconvert_exporter": "python",
   "pygments_lexer": "ipython3",
   "version": "3.8.5"
  }
 },
 "nbformat": 4,
 "nbformat_minor": 4
}
